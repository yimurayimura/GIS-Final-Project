{
 "cells": [
  {
   "cell_type": "markdown",
   "id": "a83f67bc",
   "metadata": {},
   "source": [
    "# Final Project - Data Science/Spatial Analysis"
   ]
  },
  {
   "cell_type": "markdown",
   "id": "e9143d0f",
   "metadata": {},
   "source": [
    "## 1. Project Title"
   ]
  },
  {
   "cell_type": "markdown",
   "id": "63beb793",
   "metadata": {},
   "source": [
    "Optimal siting of electric vehicle chargers in Tokyo"
   ]
  },
  {
   "cell_type": "markdown",
   "id": "0425d592",
   "metadata": {},
   "source": [
    "## 2. Team members"
   ]
  },
  {
   "cell_type": "markdown",
   "id": "d3a3a343",
   "metadata": {},
   "source": [
    "Sohei Yamada (A59004030) <br>\n",
    "Yuki Imura (A59011525)"
   ]
  },
  {
   "cell_type": "markdown",
   "id": "7091fc4c",
   "metadata": {},
   "source": [
    "## 3. Questions we addressed, why it is important (5pt)"
   ]
  },
  {
   "cell_type": "markdown",
   "id": "c2442891",
   "metadata": {},
   "source": [
    "<p>Our overarching question is to find where are the optimal points to locate electric vehicle (EV) chargers in Tokyo. Therefore, we will perform an analysis using geographic information and machine learning to answer the following three questions:</p>\n",
    "\n",
    "<p><b>Question 1: Do existing electric vehicle (EV) chargers have sufficient coverage to promote EVs?</b><br>\n",
    "Since EVs require frequent recharging, EV adoption may be delayed in areas with small coverage. We will use data on EV charger locations in Tokyo to analyze the geographical coverage.</p>\n",
    "\n",
    "<p><b>Question 2: Are the existing EV chargers unevenly distributed among certain socioeconomic communities?</b><br>\n",
    "We hypothesize that EV chargers may be unevenly distributed in higher-income neighborhoods because EVs and EV chargers are expensive. This geographic bias may increase the disproportionate disparity in environmental impacts and health risks by community because gasoline vehicles emit more carbon dioxide, PM2.5 and other toxins than EVs. We will use municipality-level Tokyo metropolitan census data and EV charger location data to determine the relationship between socioeconomic characteristics and EV charger location by municipality-level analysis.</p>\n",
    "\n",
    "<p><b>Question 3:  Where are the optimal places to locate EV charge stations (Places where several chargers are installed so that many EVs can be charged at the same time)?</b><br>\n",
    "EV chargers should be located near major roads, gas stations, and shopping centers to improve convenience for drivers, but should not be located where flooding or landslides are expected to avoid safety issues. EV chargers should also not be installed in places where chronic traffic congestion occurs to reduce congestion. Thus, in addition to the important features we will find by answering question 2, we will look at other factors that are not belongs to municipalities. Then, we will propose where EV charge stations should be installed at the targeted municipalities which have low-coverage and low-probability of adding EV chargers, utilizing Japanese administrative and other data.</p>\n",
    "\n",
    "<p>In light of these analyses, we will find optimal locations for new charging stations in most needed areas in Tokyo. Our analysis would promote EV penetration and contribute to the realization of net zero emissions (related to SDGs 13) efficiently and effectively.</p>\n"
   ]
  },
  {
   "cell_type": "markdown",
   "id": "d591b642",
   "metadata": {},
   "source": [
    "## 4. Background and literature (5pt)"
   ]
  },
  {
   "cell_type": "markdown",
   "id": "9c01c694",
   "metadata": {},
   "source": [
    "<p>Greenhouse gas reduction has become an issue of global importance. Governments are instituting policies to transition from gasoline-powered vehicles to EVs with lower carbon dioxide emissions. For example, the state of California has decided that all new passenger cars sold in California will be zero-emission vehicles, including EVs, by 2035 (California Air Resources Board, n.d.). The EV penetration rate in California is 9.5%. On the other hand, Japan has also set a policy that all new passenger cars will be electric vehicles by 2035, but the EV penetration rate in 2021 is less than 1% (Momota, 2022). One of the reasons for the slow spread of EVs in Japan is the slow development of charging infrastructure. The number of EV charging facilities in Japan has remained at about 30,000 from 2018 to 2022, while governmental target is over 150,000 (Ministry of Economy, Trade and Industry, Japan, 2022). It is necessary to increase the number of EVs by installing charging facilities in optimal locations to popularize EVs in Japan.</p>\n",
    "\n",
    "<p>Bayram et al. (2022) studied where to place fast chargers among existing gas stations to achieve the maximum coverage with the minimum number (Maximum coverage location problem). Their analysis did not include Tokyo, so we will conduct it and go farther by analyzing other factors of determining charger locations.</p>\n",
    "\n",
    "<p>Erbaş et al. (2018) evaluated the suitability of existing EV charger locations in Ankara by setting 15 criteria for environmental, economic, and urbanity (multiple-criteria decision analysis), and proposed optimal placement of EV chargers in the study area. A map of the entire study area was created scoring the 15 criteria, and it was concluded that the location with the highest score was the best location for the EV chargers. We aplied their concept of using multiple criteria to Tokyo, Japan by conducting multiple analyses.</p>\n",
    "\n",
    "<p>In addition, Xu et al. (2013) proposed a solution for the placement of chargers such that the operating distance is minimized (Minimum total transportation distance). However, this is a mathematical solution, not a geo-informed solution. Our machine learning usage can contribute to this problem solving reasonably.</p>"
   ]
  },
  {
   "cell_type": "markdown",
   "id": "1d6f4552",
   "metadata": {},
   "source": [
    "## 5. Python packages you used and why (5pt)"
   ]
  },
  {
   "cell_type": "markdown",
   "id": "2fb0844e",
   "metadata": {},
   "source": [
    "<p>We used the following libraries to perform our analysis:</p>"
   ]
  },
  {
   "cell_type": "markdown",
   "id": "80e6a1cf",
   "metadata": {},
   "source": [
    "<b>(a) Pandas library</b>\n",
    "\n",
    "<p>Necessary to manipulate dataframes</p>"
   ]
  },
  {
   "cell_type": "code",
   "execution_count": 1,
   "id": "19a0c208",
   "metadata": {},
   "outputs": [],
   "source": [
    "import pandas as pd"
   ]
  },
  {
   "cell_type": "markdown",
   "id": "aa7daa4c",
   "metadata": {},
   "source": [
    "<b>(b) GeoPandas library</b>\n",
    "\n",
    "<p>Necessary to manipulate geospatial dataframes</p>"
   ]
  },
  {
   "cell_type": "code",
   "execution_count": 2,
   "id": "7f96e0df",
   "metadata": {},
   "outputs": [],
   "source": [
    "import geopandas as gpd"
   ]
  },
  {
   "cell_type": "markdown",
   "id": "19cb3451",
   "metadata": {},
   "source": [
    "<b>(c) ArcGIS library</b>\n",
    "\n",
    "<p>Necessary to maximize coverage and minimize facilities</p>"
   ]
  },
  {
   "cell_type": "code",
   "execution_count": 4,
   "id": "7796501c",
   "metadata": {},
   "outputs": [
    {
     "name": "stdout",
     "output_type": "stream",
     "text": [
      "Enter password: ········\n"
     ]
    }
   ],
   "source": [
    "import warnings\n",
    "warnings.filterwarnings(\"ignore\")\n",
    "\n",
    "import arcgis\n",
    "from arcgis.gis import GIS\n",
    "from arcgis import geometry\n",
    "from arcgis.geoenrichment import *\n",
    "from arcgis.features import GeoAccessor, Feature, FeatureSet\n",
    "import arcgis.network as network\n",
    "\n",
    "#gis = GIS(\"https://ucsdonline.maps.arcgis.com/home/\", client_id='xH567LTL8jqxk6wx') \n",
    "gis = GIS(username=\"gpec447sp23_15\") # for Yuki"
   ]
  },
  {
   "cell_type": "markdown",
   "id": "7884654a",
   "metadata": {},
   "source": [
    "<b>(d) Matplotlib library</b>\n",
    "\n",
    "<p>Necessary to depict graphs</p>"
   ]
  },
  {
   "cell_type": "code",
   "execution_count": 5,
   "id": "04815903",
   "metadata": {},
   "outputs": [],
   "source": [
    "import matplotlib.pyplot as plt"
   ]
  },
  {
   "cell_type": "markdown",
   "id": "2c8fe2b4",
   "metadata": {},
   "source": [
    "<b>(e) seaborn library</b>\n",
    "\n",
    "<p>Necessary to visualize statistical data</p>\n",
    "\n"
   ]
  },
  {
   "cell_type": "code",
   "execution_count": 6,
   "id": "13f5b2fa",
   "metadata": {},
   "outputs": [],
   "source": [
    "import seaborn as sns"
   ]
  },
  {
   "cell_type": "markdown",
   "id": "4e5a0f58",
   "metadata": {},
   "source": [
    "<b>(f) scikit-learn library</b>\n",
    "\n",
    "<p>Necessary to perform machine learning.\n",
    "\n"
   ]
  },
  {
   "cell_type": "code",
   "execution_count": 7,
   "id": "873d0c36",
   "metadata": {},
   "outputs": [],
   "source": [
    "from arcgis.features import GeoAccessor, GeoSeriesAccessor, FeatureLayerCollection\n",
    "from sklearn.model_selection import train_test_split\n",
    "from sklearn.ensemble import RandomForestRegressor \n",
    "from sklearn.preprocessing import StandardScaler\n",
    "import matplotlib.pyplot as plt\n",
    "import seaborn as sns"
   ]
  },
  {
   "cell_type": "markdown",
   "id": "88f9511f",
   "metadata": {},
   "source": [
    "<b>(g) NumPy library</b>\n",
    "\n",
    "<p>Necessary to perform calcupation efficiently.\n"
   ]
  },
  {
   "cell_type": "code",
   "execution_count": 8,
   "id": "63cbd127",
   "metadata": {},
   "outputs": [],
   "source": [
    "import numpy as np"
   ]
  },
  {
   "cell_type": "markdown",
   "id": "ae4836ff",
   "metadata": {},
   "source": [
    "<b>(h) requests</b>\n",
    "\n",
    "<p>Necessary to </p>"
   ]
  },
  {
   "cell_type": "code",
   "execution_count": 9,
   "id": "8f7a7912",
   "metadata": {},
   "outputs": [],
   "source": [
    "import requests"
   ]
  },
  {
   "cell_type": "markdown",
   "id": "2b26a7cf",
   "metadata": {},
   "source": [
    "<b>(i) urllib library</b>\n",
    "\n",
    "<p>Necessary to </p>"
   ]
  },
  {
   "cell_type": "code",
   "execution_count": 10,
   "id": "2b1a85fd",
   "metadata": {},
   "outputs": [],
   "source": [
    "import urllib"
   ]
  },
  {
   "cell_type": "markdown",
   "id": "9d695900",
   "metadata": {},
   "source": [
    "<b>(j) tqdm library</b>\n",
    "\n",
    "<p>Necessary to create a smart progress bar for the loops</p>"
   ]
  },
  {
   "cell_type": "code",
   "execution_count": 11,
   "id": "a5f043b5",
   "metadata": {},
   "outputs": [],
   "source": [
    "import tqdm"
   ]
  },
  {
   "cell_type": "markdown",
   "id": "7edc62e2",
   "metadata": {},
   "source": [
    "<b>(k) tqdm library</b>\n",
    "\n",
    "<p>Necessary for time manipulation</p>"
   ]
  },
  {
   "cell_type": "code",
   "execution_count": 12,
   "id": "d2a4d6fd",
   "metadata": {},
   "outputs": [],
   "source": [
    "from datetime import datetime"
   ]
  },
  {
   "cell_type": "markdown",
   "id": "52f46a4a",
   "metadata": {},
   "source": [
    "<center><b>Table 1: Libraries we plan to use by question</b></center>\n",
    "\n",
    "<table>\n",
    "    <tr>\n",
    "        <td></td>\n",
    "        <td>(a)</td>\n",
    "        <td>(b)</td>\n",
    "        <td>(c)</td>\n",
    "        <td>(d)</td>\n",
    "        <td>(e)</td>\n",
    "        <td>(f)</td>\n",
    "        <td>(g)</td>\n",
    "        <td>(h)</td>\n",
    "        <td>(i)</td>\n",
    "        <td>(j)</td>\n",
    "        <td>(k)</td>\n",
    "    </tr>\n",
    "    <tr>\n",
    "        <td>Question 1: Coverage</td>\n",
    "        <td>✔</td>\n",
    "        <td>✔</td>\n",
    "        <td>✔</td>\n",
    "        <td></td>\n",
    "        <td></td>\n",
    "        <td></td>\n",
    "        <td></td>\n",
    "        <td>✔</td>\n",
    "        <td>✔</td>\n",
    "        <td>✔</td>\n",
    "        <td>✔</td>\n",
    "    </tr>\n",
    "    <tr>\n",
    "        <td>Question 2: Socio-ecomonic ML</td>\n",
    "        <td>✔</td>\n",
    "        <td>✔</td>\n",
    "        <td>✔</td>\n",
    "        <td>✔</td>\n",
    "        <td>✔</td>\n",
    "        <td>✔</td>\n",
    "        <td>✔</td>\n",
    "        <td></td>\n",
    "        <td></td>\n",
    "        <td></td>\n",
    "        <td></td>\n",
    "    </tr>\n",
    "    <tr>\n",
    "        <td>Question 3: Optimal location-allocation</td>\n",
    "        <td>✔</td>\n",
    "        <td>✔</td>\n",
    "        <td>✔</td>\n",
    "        <td></td>\n",
    "        <td></td>\n",
    "        <td></td>\n",
    "        <td>✔</td>\n",
    "        <td></td>\n",
    "        <td></td>\n",
    "        <td></td>\n",
    "        <td></td>\n",
    "    </tr>\n",
    "</table>"
   ]
  },
  {
   "cell_type": "markdown",
   "id": "5ec3188a",
   "metadata": {},
   "source": [
    "## 6. Data sources (10pt)"
   ]
  },
  {
   "cell_type": "code",
   "execution_count": null,
   "id": "8633b305",
   "metadata": {},
   "outputs": [],
   "source": []
  },
  {
   "cell_type": "markdown",
   "id": "e0ee1a82",
   "metadata": {},
   "source": [
    "## 7. Data cleaning we have done (10pt)"
   ]
  },
  {
   "cell_type": "markdown",
   "id": "c08064c3",
   "metadata": {},
   "source": [
    "<b>Data cleaning for EV charger location data</b>\n",
    "\n",
    "<p>The location information of the acquired EV charger location is written in Japanese address. Therefore, it is necessary to convert the Japanese address into latitude and longitude to map the coverage of the EV charger. We used the API of the Ministry of Land, Infrastructure, Transport and Tourism (MLIT) to convert the information to latitude and longitude, and saved it as a CSV file.</p>"
   ]
  },
  {
   "cell_type": "code",
   "execution_count": 24,
   "id": "a7361b43",
   "metadata": {},
   "outputs": [],
   "source": [
    "# Load EV charger location data\n",
    "#EVC_loc = pd.read_csv('EVC_location.csv', encoding='cp932')\n",
    "\n",
    "# Choose locations in Tokyo\n",
    "#EVC_loc_tokyo = EVC_loc[EVC_loc['所在地'].str.contains(\"東京都\")]\n",
    "#EVC_loc_tokyo = EVC_loc_tokyo[['設置場所名称','所在地','急速充電器基数','普通充電器基数','施設カテゴリー']]\n",
    "#EVC_loc_tokyo_address = EVC_loc_tokyo['所在地']\n",
    "\n",
    "# Add lon/lat\n",
    "#lonlat = []\n",
    "#makeUrl = \"https://msearch.gsi.go.jp/address-search/AddressSearch?q=\"\n",
    "#for x in tqdm.tqdm(EVC_loc_tokyo_address):\n",
    "#    try:\n",
    "#        address = x\n",
    "#        s_quote = urllib.parse.quote(address)\n",
    "#        response = requests.get(makeUrl + s_quote)\n",
    "#        lonlat.append(response.json()[0][\"geometry\"][\"coordinates\"])\n",
    "#    except:\n",
    "#        lon.append(' ')\n",
    "#        lat.append(' ')\n",
    "#\n",
    "#EVC_loc_tokyo['lonlat'] = lonlat\n",
    "\n",
    "#EVC_loc_tokyo = EVC_loc_tokyo.rename(columns={\"設置場所名称\": \"name\", \"所在地\": \"address\", \"急速充電器基数\": \"EVC_rapid\", \n",
    "#                                              \"普通充電器基数\": \"EVC_regular\", \"施設カテゴリー\": \"category\"})\n",
    "#EVC_loc_tokyo.to_csv('EVC_loc_tokyo.csv')"
   ]
  },
  {
   "cell_type": "code",
   "execution_count": 26,
   "id": "10829bd9",
   "metadata": {
    "scrolled": true
   },
   "outputs": [],
   "source": [
    "# Read csv from team GitHub repository\n",
    "EVC_loc_tokyo = pd.read_csv(\"https://raw.githubusercontent.com/yimurayimura/GIS-Final-Project/main/EVC_loc_tokyo.csv\")"
   ]
  },
  {
   "cell_type": "markdown",
   "id": "fe7e9c80",
   "metadata": {},
   "source": [
    "<p>For numerical manipulation, we converted the data type from string to float for the number of rapid and regular EV chargers.</p>"
   ]
  },
  {
   "cell_type": "code",
   "execution_count": 27,
   "id": "4df5177f",
   "metadata": {},
   "outputs": [
    {
     "data": {
      "text/html": [
       "<div>\n",
       "<style scoped>\n",
       "    .dataframe tbody tr th:only-of-type {\n",
       "        vertical-align: middle;\n",
       "    }\n",
       "\n",
       "    .dataframe tbody tr th {\n",
       "        vertical-align: top;\n",
       "    }\n",
       "\n",
       "    .dataframe thead th {\n",
       "        text-align: right;\n",
       "    }\n",
       "</style>\n",
       "<table border=\"1\" class=\"dataframe\">\n",
       "  <thead>\n",
       "    <tr style=\"text-align: right;\">\n",
       "      <th></th>\n",
       "      <th>Unnamed: 0</th>\n",
       "      <th>name</th>\n",
       "      <th>address</th>\n",
       "      <th>EVC_rapid</th>\n",
       "      <th>EVC_regular</th>\n",
       "      <th>category</th>\n",
       "      <th>lonlat</th>\n",
       "    </tr>\n",
       "  </thead>\n",
       "  <tbody>\n",
       "    <tr>\n",
       "      <th>0</th>\n",
       "      <td>3849</td>\n",
       "      <td>九段会館テラス</td>\n",
       "      <td>東京都千代田区九段南１－６ー５</td>\n",
       "      <td>1.0</td>\n",
       "      <td>0.0</td>\n",
       "      <td>その他</td>\n",
       "      <td>[139.751511, 35.69471]</td>\n",
       "    </tr>\n",
       "    <tr>\n",
       "      <th>1</th>\n",
       "      <td>3850</td>\n",
       "      <td>ヨドバシカメラマルチメディアＡｋｉｂａ</td>\n",
       "      <td>東京都千代田区神田花岡町１－１</td>\n",
       "      <td>1.0</td>\n",
       "      <td>0.0</td>\n",
       "      <td>大規模小売店舗</td>\n",
       "      <td>[139.774612, 35.698639]</td>\n",
       "    </tr>\n",
       "    <tr>\n",
       "      <th>2</th>\n",
       "      <td>3851</td>\n",
       "      <td>ＯＴＥＭＡＣＨＩ　ＯＮＥ</td>\n",
       "      <td>東京都千代田区大手町一丁目２番１号</td>\n",
       "      <td>3.0</td>\n",
       "      <td>0.0</td>\n",
       "      <td>その他</td>\n",
       "      <td>[139.76265, 35.687737]</td>\n",
       "    </tr>\n",
       "    <tr>\n",
       "      <th>3</th>\n",
       "      <td>3852</td>\n",
       "      <td>ホテルニューオータニ東京</td>\n",
       "      <td>東京都千代田区紀尾井町４－１</td>\n",
       "      <td>2.0</td>\n",
       "      <td>0.0</td>\n",
       "      <td>宿泊施設</td>\n",
       "      <td>[139.734283, 35.680435]</td>\n",
       "    </tr>\n",
       "    <tr>\n",
       "      <th>4</th>\n",
       "      <td>3853</td>\n",
       "      <td>丸の内中央パーキング</td>\n",
       "      <td>東京都千代田区丸の内２－４－１</td>\n",
       "      <td>0.0</td>\n",
       "      <td>24.0</td>\n",
       "      <td>大規模小売店舗</td>\n",
       "      <td>[139.763794, 35.681046]</td>\n",
       "    </tr>\n",
       "    <tr>\n",
       "      <th>...</th>\n",
       "      <td>...</td>\n",
       "      <td>...</td>\n",
       "      <td>...</td>\n",
       "      <td>...</td>\n",
       "      <td>...</td>\n",
       "      <td>...</td>\n",
       "      <td>...</td>\n",
       "    </tr>\n",
       "    <tr>\n",
       "      <th>607</th>\n",
       "      <td>4456</td>\n",
       "      <td>イオンモール日の出</td>\n",
       "      <td>東京都西多摩郡日の出町大字平井字三吉野桜木２３７番地３</td>\n",
       "      <td>0.0</td>\n",
       "      <td>7.0</td>\n",
       "      <td>大規模小売店舗</td>\n",
       "      <td>[139.279709, 35.741478]</td>\n",
       "    </tr>\n",
       "    <tr>\n",
       "      <th>608</th>\n",
       "      <td>4457</td>\n",
       "      <td>トヨタＳ＆Ｄ西東京　日の出店</td>\n",
       "      <td>東京都西多摩郡日の出町平井１７－４</td>\n",
       "      <td>0.0</td>\n",
       "      <td>1.0</td>\n",
       "      <td>自動車ディーラー</td>\n",
       "      <td>[139.28035, 35.739826]</td>\n",
       "    </tr>\n",
       "    <tr>\n",
       "      <th>609</th>\n",
       "      <td>4458</td>\n",
       "      <td>檜原村役場駐車場</td>\n",
       "      <td>東京都西多摩郡檜原村上元郷４６７－１</td>\n",
       "      <td>1.0</td>\n",
       "      <td>0.0</td>\n",
       "      <td>自治体施設</td>\n",
       "      <td>[139.151901, 35.730495]</td>\n",
       "    </tr>\n",
       "    <tr>\n",
       "      <th>610</th>\n",
       "      <td>4459</td>\n",
       "      <td>村営小沢駐車場</td>\n",
       "      <td>東京都西多摩郡檜原村小沢４０２２－１</td>\n",
       "      <td>1.0</td>\n",
       "      <td>0.0</td>\n",
       "      <td>自治体施設</td>\n",
       "      <td>[139.118301, 35.740631]</td>\n",
       "    </tr>\n",
       "    <tr>\n",
       "      <th>611</th>\n",
       "      <td>9325</td>\n",
       "      <td>港北インターＳＳ</td>\n",
       "      <td>東京都中央区テスト町</td>\n",
       "      <td>1.0</td>\n",
       "      <td>1.0</td>\n",
       "      <td>ガソリンスタンド</td>\n",
       "      <td>[139.772003, 35.670601]</td>\n",
       "    </tr>\n",
       "  </tbody>\n",
       "</table>\n",
       "<p>612 rows × 7 columns</p>\n",
       "</div>"
      ],
      "text/plain": [
       "     Unnamed: 0                 name                      address  EVC_rapid  \\\n",
       "0          3849              九段会館テラス              東京都千代田区九段南１－６ー５        1.0   \n",
       "1          3850  ヨドバシカメラマルチメディアＡｋｉｂａ              東京都千代田区神田花岡町１－１        1.0   \n",
       "2          3851         ＯＴＥＭＡＣＨＩ　ＯＮＥ            東京都千代田区大手町一丁目２番１号        3.0   \n",
       "3          3852         ホテルニューオータニ東京               東京都千代田区紀尾井町４－１        2.0   \n",
       "4          3853           丸の内中央パーキング              東京都千代田区丸の内２－４－１        0.0   \n",
       "..          ...                  ...                          ...        ...   \n",
       "607        4456            イオンモール日の出  東京都西多摩郡日の出町大字平井字三吉野桜木２３７番地３        0.0   \n",
       "608        4457       トヨタＳ＆Ｄ西東京　日の出店            東京都西多摩郡日の出町平井１７－４        0.0   \n",
       "609        4458             檜原村役場駐車場           東京都西多摩郡檜原村上元郷４６７－１        1.0   \n",
       "610        4459              村営小沢駐車場           東京都西多摩郡檜原村小沢４０２２－１        1.0   \n",
       "611        9325             港北インターＳＳ                   東京都中央区テスト町        1.0   \n",
       "\n",
       "     EVC_regular  category                   lonlat  \n",
       "0            0.0       その他   [139.751511, 35.69471]  \n",
       "1            0.0   大規模小売店舗  [139.774612, 35.698639]  \n",
       "2            0.0       その他   [139.76265, 35.687737]  \n",
       "3            0.0      宿泊施設  [139.734283, 35.680435]  \n",
       "4           24.0   大規模小売店舗  [139.763794, 35.681046]  \n",
       "..           ...       ...                      ...  \n",
       "607          7.0   大規模小売店舗  [139.279709, 35.741478]  \n",
       "608          1.0  自動車ディーラー   [139.28035, 35.739826]  \n",
       "609          0.0     自治体施設  [139.151901, 35.730495]  \n",
       "610          0.0     自治体施設  [139.118301, 35.740631]  \n",
       "611          1.0  ガソリンスタンド  [139.772003, 35.670601]  \n",
       "\n",
       "[612 rows x 7 columns]"
      ]
     },
     "execution_count": 27,
     "metadata": {},
     "output_type": "execute_result"
    }
   ],
   "source": [
    "#EVC_loc_tokyo = pd.read_csv('EVC_loc_tokyo.csv')\n",
    "EVC_loc_tokyo['EVC_rapid'] = EVC_loc_tokyo['EVC_rapid'].astype('float')\n",
    "EVC_loc_tokyo['EVC_regular'] = EVC_loc_tokyo['EVC_regular'].astype('float')\n",
    "EVC_loc_tokyo"
   ]
  },
  {
   "cell_type": "markdown",
   "id": "3b7d0f11",
   "metadata": {},
   "source": [
    "## 8. Descriptive statistics for the data (10pt)"
   ]
  },
  {
   "cell_type": "code",
   "execution_count": null,
   "id": "8927fee2",
   "metadata": {},
   "outputs": [],
   "source": []
  },
  {
   "cell_type": "markdown",
   "id": "62ab59a0",
   "metadata": {},
   "source": [
    "## 9. Analysis (25pt)"
   ]
  },
  {
   "cell_type": "markdown",
   "id": "891447a4",
   "metadata": {},
   "source": [
    "<b>Question 1: Do existing EV chargers have sufficient coverage to promote EVs?</b>"
   ]
  },
  {
   "cell_type": "markdown",
   "id": "c9b1cc9c",
   "metadata": {},
   "source": [
    "<p>First, we map locations within a 10-minute drive from points in Tokyo where <u>at least one rapid chargers</u> are installed.</p>"
   ]
  },
  {
   "cell_type": "code",
   "execution_count": 28,
   "id": "b5c41e90",
   "metadata": {},
   "outputs": [
    {
     "data": {
      "text/plain": [
       "'https://route.arcgis.com/arcgis/rest/services/World/ServiceAreas/NAServer/ServiceArea_World'"
      ]
     },
     "execution_count": 28,
     "metadata": {},
     "output_type": "execute_result"
    }
   ],
   "source": [
    "service_area_url = gis.properties.helperServices.serviceArea.url\n",
    "service_area_url"
   ]
  },
  {
   "cell_type": "code",
   "execution_count": 29,
   "id": "74ab510d",
   "metadata": {},
   "outputs": [],
   "source": [
    "sa_layer = network.ServiceAreaLayer(service_area_url, gis=gis)"
   ]
  },
  {
   "cell_type": "code",
   "execution_count": 30,
   "id": "e9ac5e27",
   "metadata": {},
   "outputs": [
    {
     "name": "stderr",
     "output_type": "stream",
     "text": [
      "100%|██████████| 353/353 [01:05<00:00,  5.43it/s]\n"
     ]
    }
   ],
   "source": [
    "EVC_loc_tokyo_subset = EVC_loc_tokyo[EVC_loc_tokyo['EVC_rapid']>=1] # Set the number of the rapid chargers per location\n",
    "EVC_loc_tokyo_subset = EVC_loc_tokyo_subset.reset_index(drop=True)\n",
    "\n",
    "sa_results = []\n",
    "times = [datetime(2017, 6, 10, 12).timestamp() * 1000]\n",
    "EVC_loc_tokyo_subset_len = len(EVC_loc_tokyo_subset)\n",
    "\n",
    "for i in tqdm.tqdm(range(0,EVC_loc_tokyo_subset_len)):\n",
    "    facilities = EVC_loc_tokyo_subset.loc[i,'lonlat'].replace('[', '').replace(']', '')\n",
    "    result = sa_layer.solve_service_area(facilities=facilities, default_breaks=[10], # [5,10,15]\n",
    "                                         travel_direction='esriNATravelDirectionFromFacility',\n",
    "                                         time_of_day=times, time_of_day_is_utc=False)\n",
    "    sa_results.append(result)"
   ]
  },
  {
   "cell_type": "code",
   "execution_count": 31,
   "id": "ca2d936e",
   "metadata": {},
   "outputs": [],
   "source": [
    "tokyo_fset_list=[]\n",
    "for result in sa_results:\n",
    "    poly_feat_list = []\n",
    "    for polygon_dict in result['saPolygons']['features']:\n",
    "        f1 = Feature(polygon_dict['geometry'], polygon_dict['attributes'])\n",
    "        poly_feat_list.append(f1)\n",
    "        \n",
    "    service_area_fset = FeatureSet(poly_feat_list, \n",
    "                         geometry_type=result['saPolygons']['geometryType'],\n",
    "                         spatial_reference= result['saPolygons']['spatialReference'])\n",
    "    \n",
    "    tokyo_fset_list.append(service_area_fset)"
   ]
  },
  {
   "cell_type": "code",
   "execution_count": 32,
   "id": "65ad8b3c",
   "metadata": {},
   "outputs": [
    {
     "data": {
      "application/vnd.jupyter.widget-view+json": {
       "model_id": "9775ca28cfac4b76949be5974b7e5d28",
       "version_major": 2,
       "version_minor": 0
      },
      "text/plain": [
       "MapView(layout=Layout(height='400px', width='100%'))"
      ]
     },
     "metadata": {},
     "output_type": "display_data"
    },
    {
     "data": {
      "text/html": [
       "<div class=\"map-static-img-preview-6f4fd07a-c108-48dc-9bd2-03c50021a486\"><img src=\"\"></img></div>"
      ],
      "text/plain": [
       "<IPython.core.display.HTML object>"
      ]
     },
     "metadata": {},
     "output_type": "display_data"
    },
    {
     "data": {
      "text/html": [
       "<div class=\"map-html-embed-preview-6f4fd07a-c108-48dc-9bd2-03c50021a486\"></div>"
      ],
      "text/plain": [
       "<IPython.core.display.HTML object>"
      ]
     },
     "metadata": {},
     "output_type": "display_data"
    }
   ],
   "source": [
    "tokyo_map = gis.map('Tokyo, Japan', zoomlevel=10)\n",
    "tokyo_map"
   ]
  },
  {
   "cell_type": "code",
   "execution_count": null,
   "id": "9b92f96c",
   "metadata": {},
   "outputs": [
    {
     "name": "stderr",
     "output_type": "stream",
     "text": [
      " 61%|██████    | 214/353 [02:09<02:39,  1.14s/it]"
     ]
    }
   ],
   "source": [
    "tokyo_map.clear_graphics()\n",
    "\n",
    "for fset in tqdm.tqdm(tokyo_fset_list):\n",
    "    tokyo_map.draw(fset)"
   ]
  },
  {
   "cell_type": "markdown",
   "id": "6af76e70",
   "metadata": {},
   "source": [
    "<p>A single rapid charger cannot charge multiple EVs at the same time. Therefore, we next map locations within a 10-minute drive from where <u>two or more rapid chargers</u> are installed.</p>"
   ]
  },
  {
   "cell_type": "code",
   "execution_count": 28,
   "id": "04f799ff",
   "metadata": {},
   "outputs": [
    {
     "name": "stderr",
     "output_type": "stream",
     "text": [
      "100%|██████████| 46/46 [00:08<00:00,  5.66it/s]\n"
     ]
    }
   ],
   "source": [
    "EVC_loc_tokyo_subset = EVC_loc_tokyo[EVC_loc_tokyo['EVC_rapid']>=2] # Set the number of the rapid chargers per location\n",
    "EVC_loc_tokyo_subset = EVC_loc_tokyo_subset.reset_index(drop=True)\n",
    "\n",
    "sa_results = []\n",
    "times = [datetime(2017, 6, 10, 12).timestamp() * 1000]\n",
    "EVC_loc_tokyo_subset_len = len(EVC_loc_tokyo_subset)\n",
    "\n",
    "for i in tqdm.tqdm(range(0,EVC_loc_tokyo_subset_len)):\n",
    "    facilities = EVC_loc_tokyo_subset.loc[i,'lonlat'].replace('[', '').replace(']', '')\n",
    "    result = sa_layer.solve_service_area(facilities=facilities, default_breaks=[10], # [5,10,15]\n",
    "                                         travel_direction='esriNATravelDirectionFromFacility',\n",
    "                                         time_of_day=times, time_of_day_is_utc=False)\n",
    "    sa_results.append(result)"
   ]
  },
  {
   "cell_type": "code",
   "execution_count": 29,
   "id": "03a4a53c",
   "metadata": {},
   "outputs": [],
   "source": [
    "tokyo_fset_list=[]\n",
    "for result in sa_results:\n",
    "    poly_feat_list = []\n",
    "    for polygon_dict in result['saPolygons']['features']:\n",
    "        f1 = Feature(polygon_dict['geometry'], polygon_dict['attributes'])\n",
    "        poly_feat_list.append(f1)\n",
    "        \n",
    "    service_area_fset = FeatureSet(poly_feat_list, \n",
    "                         geometry_type=result['saPolygons']['geometryType'],\n",
    "                         spatial_reference= result['saPolygons']['spatialReference'])\n",
    "    \n",
    "    tokyo_fset_list.append(service_area_fset)"
   ]
  },
  {
   "cell_type": "code",
   "execution_count": 31,
   "id": "9996fa91",
   "metadata": {},
   "outputs": [
    {
     "data": {
      "application/vnd.jupyter.widget-view+json": {
       "model_id": "b021e3377c034f8c8fc2552462ddbce9",
       "version_major": 2,
       "version_minor": 0
      },
      "text/plain": [
       "MapView(layout=Layout(height='400px', width='100%'))"
      ]
     },
     "metadata": {},
     "output_type": "display_data"
    },
    {
     "data": {
      "text/html": [
       "<div class=\"map-static-img-preview-252c851c-e92e-465a-920a-d53f21ea84d6\"><img src=\"\"></img></div>"
      ],
      "text/plain": [
       "<IPython.core.display.HTML object>"
      ]
     },
     "metadata": {},
     "output_type": "display_data"
    },
    {
     "data": {
      "text/html": [
       "<div class=\"map-html-embed-preview-252c851c-e92e-465a-920a-d53f21ea84d6\"></div>"
      ],
      "text/plain": [
       "<IPython.core.display.HTML object>"
      ]
     },
     "metadata": {},
     "output_type": "display_data"
    }
   ],
   "source": [
    "tokyo_map_2 = gis.map('Tokyo, Japan', zoomlevel=10)\n",
    "tokyo_map_2"
   ]
  },
  {
   "cell_type": "code",
   "execution_count": 32,
   "id": "9eb5acb6",
   "metadata": {},
   "outputs": [
    {
     "name": "stderr",
     "output_type": "stream",
     "text": [
      "100%|██████████| 46/46 [00:02<00:00, 19.25it/s]\n"
     ]
    }
   ],
   "source": [
    "tokyo_map_2.clear_graphics()\n",
    "\n",
    "for fset in tqdm.tqdm(tokyo_fset_list):\n",
    "    tokyo_map_2.draw(fset)"
   ]
  },
  {
   "cell_type": "markdown",
   "id": "83c1cc82",
   "metadata": {},
   "source": [
    "## 10. Summary of products and results (10pt)"
   ]
  },
  {
   "cell_type": "code",
   "execution_count": null,
   "id": "e14df31f",
   "metadata": {},
   "outputs": [],
   "source": []
  },
  {
   "cell_type": "markdown",
   "id": "3c16a6f1",
   "metadata": {},
   "source": [
    "## 11. Discussion (10pt)"
   ]
  },
  {
   "cell_type": "code",
   "execution_count": null,
   "id": "547b0b47",
   "metadata": {},
   "outputs": [],
   "source": []
  },
  {
   "cell_type": "markdown",
   "id": "e9151f42",
   "metadata": {},
   "source": [
    "## 12. Conclusions and future work (10pt)"
   ]
  },
  {
   "cell_type": "code",
   "execution_count": null,
   "id": "184c7f64",
   "metadata": {},
   "outputs": [],
   "source": []
  }
 ],
 "metadata": {
  "kernelspec": {
   "display_name": "Python 3 (ipykernel)",
   "language": "python",
   "name": "python3"
  },
  "language_info": {
   "codemirror_mode": {
    "name": "ipython",
    "version": 3
   },
   "file_extension": ".py",
   "mimetype": "text/x-python",
   "name": "python",
   "nbconvert_exporter": "python",
   "pygments_lexer": "ipython3",
   "version": "3.9.5"
  }
 },
 "nbformat": 4,
 "nbformat_minor": 5
}
